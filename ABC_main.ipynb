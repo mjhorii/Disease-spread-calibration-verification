{
 "cells": [
  {
   "attachments": {},
   "cell_type": "markdown",
   "metadata": {},
   "source": [
    "# Import packages\n",
    "Use kernel \"ABM_env\" -- see README."
   ]
  },
  {
   "cell_type": "code",
   "execution_count": null,
   "metadata": {},
   "outputs": [],
   "source": [
    "import numpy as np\n",
    "import scipy.stats as stats\n",
    "import matplotlib.pyplot as plt\n",
    "import math\n",
    "import time\n",
    "from tqdm import tqdm\n",
    "import cProfile\n",
    "import pickle\n",
    "import scipy as sci\n",
    "import pandas as pd\n",
    "import seaborn\n",
    "import matplotlib.ticker as tkr\n",
    "\n",
    "import importlib\n",
    "from ABC_case_class import *\n",
    "from ABC_data_set_class import * \n",
    "%run ABC_data_set_class.py \n",
    "%run ABC_case_class.py\n",
    "%run ABC_weight_functions.py\n",
    "\n",
    "case_set_allow_save=0 # Protection from accidental saving"
   ]
  },
  {
   "cell_type": "markdown",
   "metadata": {},
   "source": [
    "# Example usage"
   ]
  },
  {
   "cell_type": "code",
   "execution_count": null,
   "metadata": {},
   "outputs": [],
   "source": [
    "# Make training data set\n",
    "data_file='./Data/Training Data/One-parameter case/Calibration method 2/new_I_data_One-Pop-Cont.pickle'\n",
    "params_file='./Data/Training Data/One-parameter case/Calibration method 2/variable_parameter_values_One-Pop-Cont.csv'\n",
    "\n",
    "training_data=data_set(data_file=data_file,params_file=params_file,T=300,steps_to_acc=3001,mob_range=[0.005,0.025])"
   ]
  },
  {
   "cell_type": "code",
   "execution_count": null,
   "metadata": {},
   "outputs": [],
   "source": [
    "# Make test data set\n",
    "data_file='./Data/Test Data/One-parameter case/new_I_data_One-Pop-NEW-COMBINED-TEST.pickle' #Maya file structure\n",
    "params_file='./Data/Test Data/One-parameter case/variable_parameter_values_One-Pop-NEW-COMBINED-TEST.csv' #Maya file structure\n",
    "\n",
    "sample_data=data_set(data_file=data_file,params_file=params_file,T=300,steps_to_acc=3001,mob_range=[0.005,0.025],limit_data_range = False)\n"
   ]
  },
  {
   "cell_type": "code",
   "execution_count": null,
   "metadata": {},
   "outputs": [],
   "source": [
    "# Set up the case set\n",
    "cases=case_set(sample_data,training_data)\n",
    "cases.initialize_all_cases(mod=100) # CHANGE THE MOD TO INCLUDE MORE DATA, mod=1 for all data\n",
    "\n",
    "# Score each sample\n",
    "cases.run_scoring()"
   ]
  },
  {
   "cell_type": "code",
   "execution_count": null,
   "metadata": {},
   "outputs": [],
   "source": [
    "case_num = 9 #choose test dataset to run calibration on\n",
    "cases.case_list[case_num].make_single_analysis(epanechnikov,0.02,0.2,res=200)\n",
    "# cases.run_single_analysis(step,0.02,0.2,res=200) # run analysis on all cases\n",
    "cases.case_list[case_num].analysis_single.make_kde_plot(legend = True, plot_matches = True) # produce plot of inferred posterior (opacity of plotted matches corresponds to weight)"
   ]
  },
  {
   "attachments": {},
   "cell_type": "markdown",
   "metadata": {},
   "source": [
    "# Reproduction usage\n",
    "The code below reproduces the calibration and simulation-based calibration tests run for the one-parameter case using calibration method 2. Full analysis may be slow."
   ]
  },
  {
   "cell_type": "code",
   "execution_count": null,
   "metadata": {},
   "outputs": [],
   "source": [
    "# Do analysis, saving results along the way\n",
    "\n",
    "# Training data set:\n",
    "data_file='./Data/Training Data/One-parameter case/Calibration method 2/new_I_data_One-Pop-Cont.pickle'\n",
    "params_file='./Data/Training Data/One-parameter case/Calibration method 2/variable_parameter_values_One-Pop-Cont.csv'\n",
    "training_data=data_set(data_file=data_file,params_file=params_file,T=300,steps_to_acc=3001,mob_range=[0.005,0.025])\n",
    "\n",
    "# Test/sample data files:\n",
    "data_file='./Data/Test Data/One-parameter case/new_I_data_One-Pop-NEW-COMBINED-TEST.pickle'\n",
    "params_file='./Data/Test Data/One-parameter case/variable_parameter_values_One-Pop-NEW-COMBINED-TEST.csv'\n",
    "\n",
    "segments = np.arange(0,1001,50) #do analysis in segments of 50 samples\n",
    "\n",
    "for i in range(0, segments.shape[0]-1):\n",
    "    print('Starting analysis on segment ', i, '\\n')\n",
    "    #Choose the sample data for this set of analysis\n",
    "    sample_data=data_set(data_file=data_file,params_file=params_file,T=300,steps_to_acc=3001,mob_range=[0.005,0.025],limit_data_range = True, data_range_start = segments[i], data_range_end = segments[i+1])\n",
    "    \n",
    "    start_time = time.time()\n",
    "    # Set up the case set\n",
    "    cases=case_set(sample_data,training_data)\n",
    "    cases.initialize_all_cases(mod=1)\n",
    "\n",
    "    # Score each sample\n",
    "    cases.run_scoring()\n",
    "    end_time = time.time()\n",
    "    elapsed_time = end_time - start_time\n",
    "    print(f\"Case set up time: {elapsed_time} seconds\")\n",
    "    \n",
    "    # ABC hyperparameters\n",
    "    weight_function_vect=[step, neg_exp, linear, epanechnikov] # i\n",
    "    centriod_vect=[0.002,0.02,0.2, 2, 20] # j\n",
    "    estimator_bw_vect=[0.1, 0.3, 1, 3, 10] # k\n",
    "    res=500\n",
    "\n",
    "    # Anaysis for all the cases in the set\n",
    "    start_time = time.time()\n",
    "    cases.run_analysis_array(weight_function_vect,centriod_vect,estimator_bw_vect,res=res)\n",
    "    end_time = time.time()\n",
    "    elapsed_time = end_time - start_time\n",
    "    print(f\"Run time: {elapsed_time} seconds\")\n",
    "\n",
    "    #Save data:\n",
    "    variables_to_save = ['range_95', 'range_50', 'mean', 'range_size_95', 'range_size_50',\n",
    "                        'continous_rank', 'rank', 'non_zero_matches', 'crps', 'KDE',\n",
    "                        'range_pass_95', 'range_pass_50']\n",
    "\n",
    "    for variable_name in variables_to_save:\n",
    "        variable_data = cases.get_attribute_from_case_list_analysis_array(variable_name)\n",
    "        filename = f'./Data/ABC_Results/{variable_name}_{i}.pickle'\n",
    "        \n",
    "        with open(filename, 'wb') as handle:\n",
    "            pickle.dump(variable_data, handle, protocol=pickle.HIGHEST_PROTOCOL)\n",
    "\n",
    "        print(f'Saved {variable_name} to {filename}')\n"
   ]
  },
  {
   "cell_type": "code",
   "execution_count": null,
   "metadata": {},
   "outputs": [],
   "source": [
    "# Load analysis results\n",
    "\n",
    "variables_to_load = ['range_95', 'range_50', 'mean', 'range_size_95', 'range_size_50',\n",
    "                     'continous_rank', 'rank', 'non_zero_matches', 'crps', 'KDE',\n",
    "                     'range_pass_95', 'range_pass_50']\n",
    "\n",
    "loaded_data = {}\n",
    "\n",
    "for i in range(20): #(change if you have changed the segment sizes)\n",
    "    for variable_name in variables_to_load:\n",
    "        filename = f'./Data/ABC_Results/{variable_name}_{i}.pickle'\n",
    "\n",
    "        print(i)\n",
    "        with open(filename, 'rb') as handle:\n",
    "            loaded_variable = pickle.load(handle)\n",
    "        if i == 0:\n",
    "            loaded_data[variable_name] = loaded_variable\n",
    "        else:\n",
    "            loaded_data[variable_name] = loaded_data[variable_name]+loaded_variable\n",
    "            \n",
    "        # print(f'Loaded {variable_name} from {filename}')\n",
    "\n",
    "#load the sample test data (for mobility values):\n",
    "data_file='./Data/Test Data/One-parameter case/new_I_data_One-Pop-NEW-COMBINED-TEST.pickle'\n",
    "params_file='./Data/Test Data/One-parameter case/variable_parameter_values_One-Pop-NEW-COMBINED-TEST.csv'\n",
    "sample_data=data_set(data_file=data_file,params_file=params_file,T=300,steps_to_acc=3001,mob_range=[0.005,0.025],limit_data_range = True, data_range_start = 0, data_range_end = 1000)\n"
   ]
  },
  {
   "attachments": {},
   "cell_type": "markdown",
   "metadata": {},
   "source": [
    "## Plotting hyperparameter sweep\n",
    "Reproduces Fig. 13 and Fig. 14."
   ]
  },
  {
   "cell_type": "code",
   "execution_count": null,
   "metadata": {},
   "outputs": [],
   "source": [
    "ind_to_include = np.arange(0, 1000)\n",
    "n = ind_to_include.shape[0]\n",
    "\n",
    "# #For each hyperparameter combination, check what fraction of the \"true\" mobilities fell within 95% CI\n",
    "range_pass_95 = np.array(loaded_data['range_pass_95'])[ind_to_include, :, :]\n",
    "rate_pass_95 = np.sum(range_pass_95, axis = 0)/n\n",
    "\n",
    "#For each hyperparameter combination, check what fraction of the \"true\" mobilities fell within 50% CI\n",
    "range_pass_50 = np.array(loaded_data['range_pass_50'])[ind_to_include, :, :]\n",
    "rate_pass_50 = np.sum(range_pass_50, axis = 0)/n\n",
    "\n",
    "#Load continuous ranked probability score:\n",
    "crps = np.array(loaded_data['crps'])\n",
    "avg_crps = np.sum(crps, axis = 0)/n\n",
    "\n",
    "continuous_rank = np.array(loaded_data['continous_rank'])\n",
    "\n",
    "seaborn.set(rc={'figure.dpi': 500,'figure.figsize':(4,3)})\n",
    "seaborn.set(font=\"DejaVu Sans\")\n",
    "\n",
    "shape_fn_names = ['Step', 'Negative exponential', 'Linear', 'Epanechnikov']\n",
    "\n",
    "formatter = tkr.ScalarFormatter(useMathText=True)\n",
    "formatter.set_scientific(True)\n",
    "formatter.set_powerlimits((-2, 2))\n",
    "\n",
    "#calculate absolute difference between x% and rate of test samples being in x% CI:\n",
    "abs_diff_rate_pass_95 = np.abs(rate_pass_95-0.95)\n",
    "abs_diff_rate_pass_50 = np.abs(rate_pass_50-0.50)\n",
    "\n",
    "#Heatmap plot of absolute differences for 50% CI:\n",
    "for shape_ind in range(4):\n",
    "    ax = seaborn.heatmap(np.flipud(abs_diff_rate_pass_50[shape_ind, :, :]), xticklabels = [0.1, 0.3, 1, 3, 10], yticklabels = [10, 1, 0.1, 0.01, 0.001]\n",
    "                         , cbar_kws={\"format\": formatter})\n",
    "    ax.set(xlabel='KDE bandwidth', ylabel='Centroid')\n",
    "    ax.set_title(shape_fn_names[shape_ind])\n",
    "    figure = ax.get_figure()    \n",
    "    # figure.savefig('figs_final/'+shape_fn_names[shape_ind]+'_abs_diff_rate_pass_50.png', dpi=500, bbox_inches='tight') \n",
    "    plt.show()\n",
    "\n",
    "#Heatmap plot of CRPS:\n",
    "for shape_ind in range(4):\n",
    "    ax = seaborn.heatmap(np.flipud(avg_crps[shape_ind, :, :]), xticklabels = [0.1, 0.3, 1, 3, 10], yticklabels = [10, 1, 0.1, 0.01, 0.001], \n",
    "                         cbar_kws={\"format\": formatter, 'label': 'CRPS'})\n",
    "    ax.set(xlabel='KDE bandwidth', ylabel='Centroid')\n",
    "    ax.set_title(shape_fn_names[shape_ind])\n",
    "    figure = ax.get_figure()    \n",
    "    # figure.savefig('figs_final/'+shape_fn_names[shape_ind]+'_crps.png', dpi=500, bbox_inches='tight') \n",
    "    plt.show()\n",
    "\n",
    "seaborn.reset_defaults()\n"
   ]
  },
  {
   "attachments": {},
   "cell_type": "markdown",
   "metadata": {},
   "source": [
    "## Plotting SBC results\n",
    "With shape_ind = 3,centroid_ind = 0, bw_ind = 0, reproduces the one-parameter case in Fig. 15."
   ]
  },
  {
   "cell_type": "code",
   "execution_count": null,
   "metadata": {},
   "outputs": [],
   "source": [
    "shape_ind = 3\n",
    "centroid_ind = 0\n",
    "bw_ind = 0\n",
    "\n",
    "#Make a list of all the \"continuous ranks\" of the true mobility wrt the estimated posterior\n",
    "rank_test=[]\n",
    "for i in range(0,1000):\n",
    "    rank_test.append(continuous_rank[i,shape_ind,centroid_ind,bw_ind])\n",
    "\n",
    "# # --------------- Plot index sorted by rank -------------\n",
    "# plt.plot(np.sort(rank_test))\n",
    "# plt.xlabel('Index sorted by rank')\n",
    "# plt.ylabel('Rank')\n",
    "# plt.plot([0,len(rank_test)],[0,1])\n",
    "# plt.show()\n",
    "\n",
    "# # -------------- plot scatter plot of rank and test sample index ----------\n",
    "# plt.scatter(np.array(range(len(rank_test))),rank_test)\n",
    "# plt.xlabel('Index')\n",
    "# plt.ylabel('Rank')\n",
    "# plt.show()\n",
    "\n",
    "# -------------- plot rank histogram, calculate p-value ------------\n",
    "vals = rank_test\n",
    "n_bins = 51\n",
    "counts, bins = np.histogram(vals, bins=n_bins, range=None, density=None, weights=None)\n",
    "print('p-value:', sci.stats.chisquare(counts).pvalue)\n",
    "plt.figure(dpi = 500, figsize = (3,3))\n",
    "plt.stairs(counts, bins, fill = True)\n",
    "plt.xlabel('Mobility quantile')\n",
    "plt.ylabel('Frequency')\n",
    "# plt.savefig('figs_final/mob_ABC_SBC_histogram_1d.png',bbox_inches='tight')\n",
    "plt.show()"
   ]
  },
  {
   "attachments": {},
   "cell_type": "markdown",
   "metadata": {},
   "source": [
    "## Plotting KDE and marginals from loaded results data\n",
    "set: \"sample_ind = 955\" to recreate one-parameter case example in Fig. 12"
   ]
  },
  {
   "cell_type": "code",
   "execution_count": null,
   "metadata": {},
   "outputs": [],
   "source": [
    "#------------------ Plot sample KDE w CIs, true mobility -----------------\n",
    "KDE = np.array(loaded_data['KDE'])\n",
    "sample_ind = 955\n",
    "\n",
    "mob_value = sample_data.mobilities[sample_ind]\n",
    "\n",
    "upper_percentile_95 = loaded_data['range_95'][sample_ind][shape_ind,centroid_ind,bw_ind, 0]\n",
    "lower_percentile_95 = loaded_data['range_95'][sample_ind][shape_ind,centroid_ind,bw_ind, 1]\n",
    "upper_percentile_50 = loaded_data['range_50'][sample_ind][shape_ind,centroid_ind,bw_ind, 0]\n",
    "lower_percentile_50 = loaded_data['range_50'][sample_ind][shape_ind,centroid_ind,bw_ind, 1]\n",
    "\n",
    "grid=np.linspace(0.005,0.025,500)\n",
    "grid_mids=mids(grid) # grid is at midpoints\n",
    "\n",
    "plt.figure(dpi = 500, figsize = (4,3))\n",
    "plt.plot(grid_mids,KDE[sample_ind,shape_ind,centroid_ind,bw_ind], label = 'ABC Posterior')\n",
    "\n",
    "plt.axvline(upper_percentile_95, color = 'red', label = '95% CI')\n",
    "plt.axvline(lower_percentile_95, color = 'red')\n",
    "plt.axvline(upper_percentile_50, color = 'gold', label = '50% CI')\n",
    "plt.axvline(lower_percentile_50, color = 'gold')\n",
    "plt.axvline(mob_value, color = 'limegreen', label = 'True mobility', linestyle = '--')\n",
    "\n",
    "plt.xlabel('Mobility')\n",
    "plt.ylabel('Posterior density')\n",
    "plt.legend()\n",
    "plt.ylim(0, max(KDE[sample_ind,shape_ind,centroid_ind,bw_ind])*1.2)\n",
    "plt.show()"
   ]
  },
  {
   "cell_type": "code",
   "execution_count": null,
   "metadata": {},
   "outputs": [],
   "source": []
  }
 ],
 "metadata": {
  "kernelspec": {
   "display_name": "ABM_env",
   "language": "python",
   "name": "python3"
  },
  "language_info": {
   "codemirror_mode": {
    "name": "ipython",
    "version": 3
   },
   "file_extension": ".py",
   "mimetype": "text/x-python",
   "name": "python",
   "nbconvert_exporter": "python",
   "pygments_lexer": "ipython3",
   "version": "3.10.15"
  },
  "vscode": {
   "interpreter": {
    "hash": "631b5a63fa3f4765e1351030ef8cf691cfd4d1c32a3a03a6bedf1fe176832cce"
   }
  }
 },
 "nbformat": 4,
 "nbformat_minor": 2
}
